{
 "cells": [
  {
   "cell_type": "markdown",
   "metadata": {},
   "source": [
    "### Data visualization example"
   ]
  },
  {
   "cell_type": "code",
   "execution_count": 31,
   "metadata": {},
   "outputs": [],
   "source": [
    "from keplergl import KeplerGl\n",
    "import geopandas as gpd\n",
    "import pandas as pd\n",
    "\n",
    "path = 'data'\n",
    "dataset_paths = [\n",
    "                 f'{path}//ury_ppp_2020_UNadj_constrained_hex6.gpkg',\n",
    "                 f'{path}//ookla_URY_fixed_2024_Q2_hex6.gpkg',\n",
    "                 f'{path}//ookla_URY_mobile_2024_Q2_hex6.gpkg',\n",
    "                 f'{path}//URY_transmissionnode_dist_hex6.gpkg',\n",
    "                 f'{path}//gis_osm_roads_free_1_hex6.gpkg'\n",
    "                 ]\n",
    "dataset_names = [\n",
    "                 'population_density',\n",
    "                 'ookla_fixed',\n",
    "                 'ookle_mobile',\n",
    "                 'transmissionnodes',\n",
    "                 'roads'\n",
    "                 ]"
   ]
  },
  {
   "cell_type": "code",
   "execution_count": null,
   "metadata": {},
   "outputs": [],
   "source": [
    "%run config.py # Load the config file"
   ]
  },
  {
   "cell_type": "code",
   "execution_count": null,
   "metadata": {},
   "outputs": [
    {
     "data": {
      "application/vnd.jupyter.widget-view+json": {
       "model_id": "9162fee052254813bfd62b42321b89fd",
       "version_major": 2,
       "version_minor": 0
      },
      "text/plain": [
       "KeplerGl(config={'version': 'v1', 'config': {'visState': {'filters': [{'dataId': ['mobile_coverage_1'], 'id': …"
      ]
     },
     "metadata": {},
     "output_type": "display_data"
    }
   ],
   "source": [
    "first_map = False # set to True if no config file is available\n",
    "for dataset_path, dataset_name in zip(dataset_paths, dataset_names):\n",
    "    df = gpd.read_file(dataset_path)\n",
    "    df = df.set_index('hex_id')\n",
    "    if first_map:\n",
    "        if 'config' in globals():\n",
    "            map = KeplerGl(height=400, data={dataset_name: df}, config=config)\n",
    "        else:\n",
    "            map = KeplerGl(height=400, data={dataset_name: df})\n",
    "        first_map = False\n",
    "    else:\n",
    "        map.add_data(data=df, name=dataset_name)\n",
    "\n",
    "map"
   ]
  },
  {
   "cell_type": "markdown",
   "metadata": {},
   "source": []
  },
  {
   "cell_type": "code",
   "execution_count": null,
   "metadata": {},
   "outputs": [],
   "source": [
    "# with open('config.py', 'w') as f: \n",
    "#    f.write('config = {}'.format(map.config)) # Save the config file"
   ]
  },
  {
   "cell_type": "code",
   "execution_count": 35,
   "metadata": {},
   "outputs": [
    {
     "name": "stdout",
     "output_type": "stream",
     "text": [
      "Map saved to map.html!\n"
     ]
    }
   ],
   "source": [
    "# this will save map with provided data and config\n",
    "map.save_to_html(file_name='map.html', config=config)"
   ]
  }
 ],
 "metadata": {
  "kernelspec": {
   "display_name": "maps2",
   "language": "python",
   "name": "python3"
  },
  "language_info": {
   "codemirror_mode": {
    "name": "ipython",
    "version": 3
   },
   "file_extension": ".py",
   "mimetype": "text/x-python",
   "name": "python",
   "nbconvert_exporter": "python",
   "pygments_lexer": "ipython3",
   "version": "3.11.9"
  }
 },
 "nbformat": 4,
 "nbformat_minor": 2
}
